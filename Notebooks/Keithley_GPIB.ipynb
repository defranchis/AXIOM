{
 "cells": [
  {
   "cell_type": "code",
   "execution_count": 5,
   "id": "6eb4f034",
   "metadata": {},
   "outputs": [
    {
     "ename": "ModuleNotFoundError",
     "evalue": "No module named 'pyvisa_device'",
     "output_type": "error",
     "traceback": [
      "\u001b[1;31m---------------------------------------------------------------------------\u001b[0m",
      "\u001b[1;31mModuleNotFoundError\u001b[0m                       Traceback (most recent call last)",
      "\u001b[1;32m~\\AppData\\Local\\Temp\\ipykernel_16472\\1860601495.py\u001b[0m in \u001b[0;36m<module>\u001b[1;34m\u001b[0m\n\u001b[0;32m      1\u001b[0m \u001b[1;32mimport\u001b[0m \u001b[0msys\u001b[0m\u001b[1;33m\u001b[0m\u001b[1;33m\u001b[0m\u001b[0m\n\u001b[0;32m      2\u001b[0m \u001b[0msys\u001b[0m\u001b[1;33m.\u001b[0m\u001b[0mpath\u001b[0m\u001b[1;33m.\u001b[0m\u001b[0mappend\u001b[0m\u001b[1;33m(\u001b[0m\u001b[1;34m\"C:\\\\Users\\\\pcdttp04\\\\\"\u001b[0m\u001b[1;33m)\u001b[0m\u001b[1;33m\u001b[0m\u001b[1;33m\u001b[0m\u001b[0m\n\u001b[1;32m----> 3\u001b[1;33m \u001b[1;32mfrom\u001b[0m \u001b[0mAXIOM\u001b[0m\u001b[1;33m.\u001b[0m\u001b[0mdevices\u001b[0m\u001b[1;33m.\u001b[0m\u001b[0mpyvisa_device\u001b[0m \u001b[1;32mimport\u001b[0m \u001b[0mdevice\u001b[0m\u001b[1;33m\u001b[0m\u001b[1;33m\u001b[0m\u001b[0m\n\u001b[0m\u001b[0;32m      4\u001b[0m \u001b[1;32mfrom\u001b[0m \u001b[0mAXIOM\u001b[0m\u001b[1;33m.\u001b[0m\u001b[0mdevices\u001b[0m \u001b[1;32mimport\u001b[0m \u001b[0mke6487\u001b[0m\u001b[1;33m\u001b[0m\u001b[1;33m\u001b[0m\u001b[0m\n",
      "\u001b[1;32m~\\AXIOM\\devices\\__init__.py\u001b[0m in \u001b[0;36m<module>\u001b[1;34m\u001b[0m\n\u001b[1;32m----> 1\u001b[1;33m \u001b[1;32mfrom\u001b[0m \u001b[0mpyvisa_device\u001b[0m \u001b[1;32mimport\u001b[0m \u001b[0mdevice\u001b[0m\u001b[1;33m,\u001b[0m \u001b[0mdevice_error\u001b[0m\u001b[1;33m\u001b[0m\u001b[1;33m\u001b[0m\u001b[0m\n\u001b[0m\u001b[0;32m      2\u001b[0m \u001b[1;32mfrom\u001b[0m \u001b[0mke2410\u001b[0m \u001b[1;32mimport\u001b[0m \u001b[0mke2410\u001b[0m\u001b[1;33m\u001b[0m\u001b[1;33m\u001b[0m\u001b[0m\n\u001b[0;32m      3\u001b[0m \u001b[1;32mfrom\u001b[0m \u001b[0mke2450\u001b[0m \u001b[1;32mimport\u001b[0m \u001b[0mke2450\u001b[0m\u001b[1;33m\u001b[0m\u001b[1;33m\u001b[0m\u001b[0m\n\u001b[0;32m      4\u001b[0m \u001b[1;32mfrom\u001b[0m \u001b[0mke2001\u001b[0m \u001b[1;32mimport\u001b[0m \u001b[0mke2001\u001b[0m\u001b[1;33m\u001b[0m\u001b[1;33m\u001b[0m\u001b[0m\n\u001b[0;32m      5\u001b[0m \u001b[1;32mfrom\u001b[0m \u001b[0mke6487\u001b[0m \u001b[1;32mimport\u001b[0m \u001b[0mke6487\u001b[0m\u001b[1;33m\u001b[0m\u001b[1;33m\u001b[0m\u001b[0m\n",
      "\u001b[1;31mModuleNotFoundError\u001b[0m: No module named 'pyvisa_device'"
     ]
    }
   ],
   "source": [
    "import sys\n",
    "sys.path.append(\"C:\\\\Users\\\\pcdttp04\\\\\")\n",
    "from AXIOM.devices.pyvisa_device import device\n",
    "from AXIOM.devices import ke6487"
   ]
  },
  {
   "cell_type": "code",
   "execution_count": 2,
   "id": "d278b040",
   "metadata": {},
   "outputs": [],
   "source": [
    "import pyvisa"
   ]
  },
  {
   "cell_type": "code",
   "execution_count": 7,
   "id": "88c9e37c",
   "metadata": {},
   "outputs": [
    {
     "name": "stdout",
     "output_type": "stream",
     "text": [
      "['C:\\\\Users\\\\pcdttp04\\\\Notebooks', 'C:\\\\Users\\\\pcdttp04\\\\anaconda3\\\\python39.zip', 'C:\\\\Users\\\\pcdttp04\\\\anaconda3\\\\DLLs', 'C:\\\\Users\\\\pcdttp04\\\\anaconda3\\\\lib', 'C:\\\\Users\\\\pcdttp04\\\\anaconda3', '', 'C:\\\\Users\\\\pcdttp04\\\\anaconda3\\\\lib\\\\site-packages', 'C:\\\\Users\\\\pcdttp04\\\\anaconda3\\\\lib\\\\site-packages\\\\win32', 'C:\\\\Users\\\\pcdttp04\\\\anaconda3\\\\lib\\\\site-packages\\\\win32\\\\lib', 'C:\\\\Users\\\\pcdttp04\\\\anaconda3\\\\lib\\\\site-packages\\\\Pythonwin', 'C:\\\\Users\\\\pcdttp04\\\\anaconda3\\\\lib\\\\site-packages\\\\IPython\\\\extensions', 'C:\\\\Users\\\\pcdttp04\\\\.ipython']\n"
     ]
    }
   ],
   "source": [
    "print(sys.path)"
   ]
  },
  {
   "cell_type": "code",
   "execution_count": null,
   "id": "2cc3db38",
   "metadata": {},
   "outputs": [],
   "source": []
  }
 ],
 "metadata": {
  "kernelspec": {
   "display_name": "Python 3 (ipykernel)",
   "language": "python",
   "name": "python3"
  },
  "language_info": {
   "codemirror_mode": {
    "name": "ipython",
    "version": 3
   },
   "file_extension": ".py",
   "mimetype": "text/x-python",
   "name": "python",
   "nbconvert_exporter": "python",
   "pygments_lexer": "ipython3",
   "version": "3.9.13"
  }
 },
 "nbformat": 4,
 "nbformat_minor": 5
}
