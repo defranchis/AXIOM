{
 "cells": [
  {
   "cell_type": "markdown",
   "id": "e85f1f44",
   "metadata": {},
   "source": [
    "Test available devices"
   ]
  },
  {
   "cell_type": "code",
   "execution_count": null,
   "id": "795386f0",
   "metadata": {},
   "outputs": [],
   "source": [
    "import pyvisa\n",
    "import numpy as np"
   ]
  },
  {
   "cell_type": "code",
   "execution_count": null,
   "id": "22f56a19",
   "metadata": {},
   "outputs": [],
   "source": [
    "rm = pyvisa.ResourceManager()"
   ]
  },
  {
   "cell_type": "code",
   "execution_count": null,
   "id": "f397fd27",
   "metadata": {},
   "outputs": [],
   "source": [
    "# check all available resources\n",
    "instruments = np.array(rm.list_resources())\n",
    "\n",
    "for instrument in instruments:\n",
    "    my_instrument = rm.open_resource(instrument)\n",
    "    try:\n",
    "        identity = my_instrument.query('*IDN?')\n",
    "        print(\"Resource: '\" + instrument + \"' is\")\n",
    "        print(identity + '\\n')\n",
    "    except pyvisa.VisaIOError:\n",
    "        print('No connection to: ' + instrument)"
   ]
  },
  {
   "cell_type": "code",
   "execution_count": null,
   "id": "596e2f98",
   "metadata": {},
   "outputs": [],
   "source": [
    "dev = rm.open_resource(\"GPIB0::6::INSTR\")"
   ]
  },
  {
   "cell_type": "markdown",
   "id": "0e60708d",
   "metadata": {},
   "source": [
    "Load tsx3510P using custom class"
   ]
  },
  {
   "cell_type": "code",
   "execution_count": 1,
   "id": "1838be2e",
   "metadata": {},
   "outputs": [],
   "source": [
    "import sys\n",
    "sys.path.append(\"C:\\\\Users\\\\pcdttp04\\\\AXIOM\")\n",
    "sys.path.append(\"C:\\\\Users\\\\pcdttp04\\\\AXIOM\\\\devices\")\n",
    "from devices.tsx3510P import tsx3510P"
   ]
  },
  {
   "cell_type": "code",
   "execution_count": 2,
   "id": "6fb9d729",
   "metadata": {},
   "outputs": [
    {
     "name": "stderr",
     "output_type": "stream",
     "text": [
      "INFO:root:test\n"
     ]
    }
   ],
   "source": [
    "# enable logging\n",
    "import logging\n",
    "logger = logging.getLogger(\"root\")\n",
    "logger.setLevel(logging.INFO) # DEBUG\n",
    "logging.info(\"test\")"
   ]
  },
  {
   "cell_type": "code",
   "execution_count": 3,
   "id": "4918c120",
   "metadata": {},
   "outputs": [
    {
     "name": "stderr",
     "output_type": "stream",
     "text": [
      "INFO:root:Initialising device.\n",
      "INFO:root:THURLBY-THANDAR,TSX3510P,0,1.20\n",
      "\n"
     ]
    }
   ],
   "source": [
    "mydev = tsx3510P(6)"
   ]
  },
  {
   "cell_type": "code",
   "execution_count": 6,
   "id": "5b73b83f",
   "metadata": {},
   "outputs": [
    {
     "data": {
      "text/plain": [
       "'V 5.00\\n'"
      ]
     },
     "execution_count": 6,
     "metadata": {},
     "output_type": "execute_result"
    }
   ],
   "source": [
    "mydev.ctrl.query(\"V?\")"
   ]
  },
  {
   "cell_type": "code",
   "execution_count": null,
   "id": "8dbc715c",
   "metadata": {},
   "outputs": [],
   "source": [
    "mydev.ctrl.write(\"V 5\")"
   ]
  },
  {
   "cell_type": "code",
   "execution_count": null,
   "id": "c38f3a37",
   "metadata": {},
   "outputs": [],
   "source": [
    "dict(mydev.ctrl)"
   ]
  },
  {
   "cell_type": "code",
   "execution_count": 5,
   "id": "46ee20c1",
   "metadata": {},
   "outputs": [],
   "source": [
    "mydev.set_voltage(5)"
   ]
  },
  {
   "cell_type": "code",
   "execution_count": 14,
   "id": "c520b803",
   "metadata": {},
   "outputs": [
    {
     "data": {
      "text/plain": [
       "0.2"
      ]
     },
     "execution_count": 14,
     "metadata": {},
     "output_type": "execute_result"
    }
   ],
   "source": [
    "mydev.read_voltage(5)"
   ]
  },
  {
   "cell_type": "code",
   "execution_count": 9,
   "id": "62a1ad91",
   "metadata": {},
   "outputs": [],
   "source": [
    "mydev.set_current(5)"
   ]
  },
  {
   "cell_type": "code",
   "execution_count": 11,
   "id": "58fab2e1",
   "metadata": {},
   "outputs": [
    {
     "data": {
      "text/plain": [
       "0.0"
      ]
     },
     "execution_count": 11,
     "metadata": {},
     "output_type": "execute_result"
    }
   ],
   "source": [
    "mydev.read_current()"
   ]
  },
  {
   "cell_type": "code",
   "execution_count": 15,
   "id": "481e529f",
   "metadata": {},
   "outputs": [
    {
     "data": {
      "text/plain": [
       "0.0"
      ]
     },
     "execution_count": 15,
     "metadata": {},
     "output_type": "execute_result"
    }
   ],
   "source": [
    "mydev.read_current()"
   ]
  },
  {
   "cell_type": "code",
   "execution_count": 16,
   "id": "c0d2118e",
   "metadata": {},
   "outputs": [
    {
     "data": {
      "text/plain": [
       "0.0"
      ]
     },
     "execution_count": 16,
     "metadata": {},
     "output_type": "execute_result"
    }
   ],
   "source": [
    "mydev.read_power()"
   ]
  },
  {
   "cell_type": "code",
   "execution_count": 17,
   "id": "ab44293f",
   "metadata": {},
   "outputs": [
    {
     "ename": "TypeError",
     "evalue": "'int' object is not subscriptable",
     "output_type": "error",
     "traceback": [
      "\u001b[1;31m---------------------------------------------------------------------------\u001b[0m",
      "\u001b[1;31mTypeError\u001b[0m                                 Traceback (most recent call last)",
      "\u001b[1;32m~\\AppData\\Local\\Temp\\ipykernel_8212\\224936957.py\u001b[0m in \u001b[0;36m<module>\u001b[1;34m\u001b[0m\n\u001b[1;32m----> 1\u001b[1;33m \u001b[0mmydev\u001b[0m\u001b[1;33m.\u001b[0m\u001b[0mget_voltageLimit\u001b[0m\u001b[1;33m(\u001b[0m\u001b[1;33m)\u001b[0m\u001b[1;33m\u001b[0m\u001b[1;33m\u001b[0m\u001b[0m\n\u001b[0m",
      "\u001b[1;32m~\\AXIOM\\devices\\tsx3510P.py\u001b[0m in \u001b[0;36mget_voltageLimit\u001b[1;34m(self, iChannel)\u001b[0m\n\u001b[0;32m     57\u001b[0m     \u001b[1;32mdef\u001b[0m \u001b[0mget_voltageLimit\u001b[0m\u001b[1;33m(\u001b[0m\u001b[0mself\u001b[0m\u001b[1;33m,\u001b[0m \u001b[0miChannel\u001b[0m\u001b[1;33m=\u001b[0m\u001b[1;33m-\u001b[0m\u001b[1;36m1\u001b[0m\u001b[1;33m)\u001b[0m\u001b[1;33m:\u001b[0m\u001b[1;33m\u001b[0m\u001b[1;33m\u001b[0m\u001b[0m\n\u001b[0;32m     58\u001b[0m         \u001b[0msOVP\u001b[0m \u001b[1;33m=\u001b[0m \u001b[0mself\u001b[0m\u001b[1;33m.\u001b[0m\u001b[0mctrl\u001b[0m\u001b[1;33m.\u001b[0m\u001b[0mwrite\u001b[0m\u001b[1;33m(\u001b[0m\u001b[1;34m'OVP?'\u001b[0m\u001b[1;33m)\u001b[0m\u001b[1;33m\u001b[0m\u001b[1;33m\u001b[0m\u001b[0m\n\u001b[1;32m---> 59\u001b[1;33m         \u001b[1;32mreturn\u001b[0m \u001b[0mfloat\u001b[0m\u001b[1;33m(\u001b[0m\u001b[0msOVP\u001b[0m\u001b[1;33m[\u001b[0m\u001b[1;36m4\u001b[0m\u001b[1;33m:\u001b[0m\u001b[1;33m]\u001b[0m\u001b[1;33m)\u001b[0m\u001b[1;33m\u001b[0m\u001b[1;33m\u001b[0m\u001b[0m\n\u001b[0m\u001b[0;32m     60\u001b[0m \u001b[1;33m\u001b[0m\u001b[0m\n\u001b[0;32m     61\u001b[0m     \u001b[1;32mdef\u001b[0m \u001b[0mset_voltage\u001b[0m\u001b[1;33m(\u001b[0m\u001b[0mself\u001b[0m\u001b[1;33m,\u001b[0m \u001b[0mfValue\u001b[0m\u001b[1;33m,\u001b[0m \u001b[0miChannel\u001b[0m\u001b[1;33m=\u001b[0m\u001b[1;33m-\u001b[0m\u001b[1;36m1\u001b[0m\u001b[1;33m)\u001b[0m\u001b[1;33m:\u001b[0m\u001b[1;33m\u001b[0m\u001b[1;33m\u001b[0m\u001b[0m\n",
      "\u001b[1;31mTypeError\u001b[0m: 'int' object is not subscriptable"
     ]
    }
   ],
   "source": [
    "mydev.get_voltageLimit()"
   ]
  },
  {
   "cell_type": "code",
   "execution_count": 24,
   "id": "4ecc6064",
   "metadata": {},
   "outputs": [
    {
     "data": {
      "text/plain": [
       "40.0"
      ]
     },
     "execution_count": 24,
     "metadata": {},
     "output_type": "execute_result"
    }
   ],
   "source": [
    "float(mydev.ctrl.query('OVP?')[4:])"
   ]
  },
  {
   "cell_type": "code",
   "execution_count": 25,
   "id": "e8f51109",
   "metadata": {},
   "outputs": [],
   "source": [
    "mydev.set_voltageLimit(30)"
   ]
  },
  {
   "cell_type": "code",
   "execution_count": 26,
   "id": "a07709ac",
   "metadata": {},
   "outputs": [
    {
     "data": {
      "text/plain": [
       "30.0"
      ]
     },
     "execution_count": 26,
     "metadata": {},
     "output_type": "execute_result"
    }
   ],
   "source": [
    "float(mydev.ctrl.query('OVP?')[4:])"
   ]
  },
  {
   "cell_type": "code",
   "execution_count": null,
   "id": "3922367c",
   "metadata": {},
   "outputs": [],
   "source": []
  },
  {
   "cell_type": "code",
   "execution_count": 31,
   "id": "cae6fc4b",
   "metadata": {},
   "outputs": [
    {
     "data": {
      "text/plain": [
       "'THURLBY-THANDAR,TSX3510P,0,1.20\\n'"
      ]
     },
     "execution_count": 31,
     "metadata": {},
     "output_type": "execute_result"
    }
   ],
   "source": [
    "mydev.get_idn()"
   ]
  },
  {
   "cell_type": "code",
   "execution_count": null,
   "id": "505e2ff9",
   "metadata": {},
   "outputs": [],
   "source": []
  }
 ],
 "metadata": {
  "kernelspec": {
   "display_name": "Python 3 (ipykernel)",
   "language": "python",
   "name": "python3"
  },
  "language_info": {
   "codemirror_mode": {
    "name": "ipython",
    "version": 3
   },
   "file_extension": ".py",
   "mimetype": "text/x-python",
   "name": "python",
   "nbconvert_exporter": "python",
   "pygments_lexer": "ipython3",
   "version": "3.9.13"
  }
 },
 "nbformat": 4,
 "nbformat_minor": 5
}
